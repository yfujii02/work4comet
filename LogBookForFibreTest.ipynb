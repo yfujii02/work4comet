{
 "cells": [
  {
   "cell_type": "markdown",
   "metadata": {},
   "source": [
    "Lab note\n",
    "===\n",
    "**31/08/2020\n",
    "Y. Fujii and S. Dekkers**\n",
    "\n",
    "First test with Plastic Optical Fibre (POF), 1m cut by myself.\n",
    "\n",
    "Green LED found in the stock room.\n",
    "\n",
    "* Using internal signal generator of PS6404C as a LED driver\n",
    "    * Start frequency 8MHz, square pulse, amplitude 2V, offset 1V, Triggers AUX input\n",
    "    * External AUX from Function generator, 500Hz square, 1% duty, Low 0V, High 1V\n",
    "    * See also [here](https://drive.google.com/file/d/15cAnjlMly5KDXla8r4-L91rBEY9AGxqW/view?usp=sharing)\n",
    "    \n",
    "    \n",
    "* Preparing the DAQ...\n",
    "    * DAQ alsmost done\n",
    "\n",
    "**01/09/2020\n",
    "Y. Fujii and S. Dekkers**\n",
    "\n",
    "Add Bias-tee circuit between the pulse generator and the LED\n",
    "* Size of signal improved significantly\n",
    "* See data for more details..\n",
    "\n"
   ]
  },
  {
   "cell_type": "markdown",
   "metadata": {},
   "source": [
    "\n",
    "**03/09/2020\n",
    "Y. Fujii and S. Dekkers**\n",
    "\n",
    "Change Green LED to **405ns** peak LED\n",
    "\n",
    "In the DAQ mode, I had to set the voltage twice larger as it is in scope mode for picoscope.\n",
    "\n",
    "For scope mode, 900mV is used while for DAQ mode 1800mV is used. (need some investigation later...)\n",
    "\n",
    "Place and format of files...\n",
    "\n",
    "* Directory: `/home/comet/work/pico/data`\n",
    "* File name: `test_hvXX_YYm_MAT_LEDZZZnm_#.npy`\n",
    "    * `XX=HV`, `YY=length of fibre`, `MAT=plastic or glass`, `ZZZ=Wavelength of LED`, `#=sub run ID` \n",
    "\n",
    "**Quick summary of each data**\n",
    "\n",
    "| <br>Wavelength (nm)/</br><br>Pulse heigt (mV)</br> | Fibre 1m | Fibre 10m |\n",
    "|--|---|---|\n",
    "| <br><font size=\"5\">405/</font></br><br><font size=\"5\">1800</font></br> | <img src=\"./figs/LED405nm_SiPM42V_Fibre1m.png\" width=\"375\"> | <img src=\"./figs/LED405nm_SiPM42V_Fibre10m.png\" width=\"375\"> |\n",
    "| <br><font size=\"5\">385/</font></br><br><font size=\"5\">2000</font></br> | <img src=\"./figs/LED385nm_SiPM42V_Fibre1m.png\" width=\"375\"> | <img src=\"./figs/LED385nm_SiPM42V_Fibre10m.png\" width=\"375\"> |\n",
    "| <br><font size=\"5\">470/</font></br><br><font size=\"5\">1700</font></br> | <img src=\"./figs/LED470nm_SiPM42V_Fibre1m.png\" width=\"375\"> | <img src=\"./figs/LED470nm_SiPM42V_Fibre10m.png\" width=\"375\"> |\n",
    "| <br><font size=\"5\">525/</font></br><br><font size=\"5\">1546</font></br> | <img src=\"./figs/LED525nm_SiPM42V_Fibre1m.png\" width=\"375\"> | <img src=\"./figs/LED525nm_SiPM42V_Fibre10m.png\" width=\"375\"> |\n"
   ]
  },
  {
   "cell_type": "code",
   "execution_count": null,
   "metadata": {},
   "outputs": [],
   "source": []
  },
  {
   "cell_type": "code",
   "execution_count": null,
   "metadata": {},
   "outputs": [],
   "source": []
  }
 ],
 "metadata": {
  "kernelspec": {
   "display_name": "Python 3",
   "language": "python",
   "name": "python3"
  },
  "language_info": {
   "codemirror_mode": {
    "name": "ipython",
    "version": 3
   },
   "file_extension": ".py",
   "mimetype": "text/x-python",
   "name": "python",
   "nbconvert_exporter": "python",
   "pygments_lexer": "ipython3",
   "version": "3.7.3"
  }
 },
 "nbformat": 4,
 "nbformat_minor": 4
}
